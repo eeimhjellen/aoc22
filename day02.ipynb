{
 "cells": [
  {
   "cell_type": "code",
   "execution_count": 3,
   "id": "3e81416c-1a95-446f-a427-1d217dfb3bcd",
   "metadata": {},
   "outputs": [
    {
     "name": "stdout",
     "output_type": "stream",
     "text": [
      "14069\n"
     ]
    }
   ],
   "source": [
    "f=open(\"text02.txt\",\"r\")\n",
    "score=0\n",
    "for line in f:\n",
    "    line=line.split('\\n')[0]\n",
    "    #Rock 1\n",
    "    if line=='A X':   \n",
    "        score+= 1+3\n",
    "    elif line=='A Y':\n",
    "        score+= 2+6\n",
    "    elif line=='A Z':\n",
    "        score+= 3+0\n",
    "    #Paper 2\n",
    "    elif line=='B X':\n",
    "        score+= 1+0\n",
    "    elif line=='B Y':\n",
    "        score+= 2+3\n",
    "    elif line=='B Z':\n",
    "        score+= 3+6\n",
    "    #Scissor 3\n",
    "    elif line=='C X':\n",
    "        score+= 1+6\n",
    "    elif line=='C Y':\n",
    "        score+= 2+0\n",
    "    elif line=='C Z':\n",
    "        score+= 3+3\n",
    "print(score)"
   ]
  },
  {
   "cell_type": "code",
   "execution_count": 5,
   "id": "bfbb2dc3-cc46-4f2b-b071-101c18c232fd",
   "metadata": {},
   "outputs": [
    {
     "name": "stdout",
     "output_type": "stream",
     "text": [
      "12411\n"
     ]
    }
   ],
   "source": [
    "f=open(\"text02.txt\",\"r\")\n",
    "score=0\n",
    "for line in f:\n",
    "    line=line.split('\\n')[0]\n",
    "    #Rock 1\n",
    "    if line=='A X':   \n",
    "        score+= 3+0\n",
    "    elif line=='A Y':\n",
    "        score+= 1+3\n",
    "    elif line=='A Z':\n",
    "        score+= 2+6\n",
    "    #Paper 2\n",
    "    elif line=='B X':\n",
    "        score+= 1+0\n",
    "    elif line=='B Y':\n",
    "        score+= 2+3\n",
    "    elif line=='B Z':\n",
    "        score+= 3+6\n",
    "    #Scissor 3\n",
    "    elif line=='C X':\n",
    "        score+= 2+0\n",
    "    elif line=='C Y':\n",
    "        score+= 3+3\n",
    "    elif line=='C Z':\n",
    "        score+= 1+6\n",
    "print(score)"
   ]
  },
  {
   "cell_type": "code",
   "execution_count": null,
   "id": "6a39ba3b-91bf-4022-8e0b-89390dc1b34a",
   "metadata": {},
   "outputs": [],
   "source": []
  }
 ],
 "metadata": {
  "kernelspec": {
   "display_name": "Python 3 (ipykernel)",
   "language": "python",
   "name": "python3"
  },
  "language_info": {
   "codemirror_mode": {
    "name": "ipython",
    "version": 3
   },
   "file_extension": ".py",
   "mimetype": "text/x-python",
   "name": "python",
   "nbconvert_exporter": "python",
   "pygments_lexer": "ipython3",
   "version": "3.9.13"
  }
 },
 "nbformat": 4,
 "nbformat_minor": 5
}
