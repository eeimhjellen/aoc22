{
 "cells": [
  {
   "cell_type": "code",
   "execution_count": 10,
   "id": "84f59d6a-6757-4697-8486-06524aea8e7f",
   "metadata": {},
   "outputs": [
    {
     "data": {
      "text/plain": [
       "72017"
      ]
     },
     "execution_count": 10,
     "metadata": {},
     "output_type": "execute_result"
    }
   ],
   "source": [
    "f=open(\"text01.txt\",\"r\")\n",
    "liste=[0]\n",
    "for line in f:\n",
    "    line=line.split('\\n')[0]\n",
    "    if line=='':\n",
    "        liste.append(0)\n",
    "    else:\n",
    "        liste[-1]=liste[-1]+int(line)\n",
    "max(liste)"
   ]
  },
  {
   "cell_type": "code",
   "execution_count": 15,
   "id": "488e1684-bdee-41f7-8218-4e37fe828ef4",
   "metadata": {},
   "outputs": [
    {
     "name": "stdout",
     "output_type": "stream",
     "text": [
      "212520\n"
     ]
    }
   ],
   "source": [
    "f=open(\"text01.txt\",\"r\")\n",
    "liste=[0]\n",
    "for line in f:\n",
    "    line=line.split('\\n')[0]\n",
    "    if line=='':\n",
    "        liste.append(0)\n",
    "    else:\n",
    "        liste[-1]=liste[-1]+int(line)\n",
    "liste.sort()\n",
    "print(liste[-1]+liste[-2]+liste[-3])"
   ]
  },
  {
   "cell_type": "code",
   "execution_count": null,
   "id": "7e33bdce-7b78-4d90-b279-a0b8e6f6fe0e",
   "metadata": {},
   "outputs": [],
   "source": []
  }
 ],
 "metadata": {
  "kernelspec": {
   "display_name": "Python 3 (ipykernel)",
   "language": "python",
   "name": "python3"
  },
  "language_info": {
   "codemirror_mode": {
    "name": "ipython",
    "version": 3
   },
   "file_extension": ".py",
   "mimetype": "text/x-python",
   "name": "python",
   "nbconvert_exporter": "python",
   "pygments_lexer": "ipython3",
   "version": "3.9.13"
  }
 },
 "nbformat": 4,
 "nbformat_minor": 5
}
