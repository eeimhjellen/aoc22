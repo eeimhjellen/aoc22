{
 "cells": [
  {
   "cell_type": "code",
   "execution_count": 24,
   "id": "8eaa1378-97f7-47fa-b3bb-ca27adb30d2d",
   "metadata": {},
   "outputs": [
    {
     "name": "stdout",
     "output_type": "stream",
     "text": [
      "7746\n"
     ]
    }
   ],
   "source": [
    "f=open(\"text03.txt\",\"r\")\n",
    "h_liste=[]\n",
    "for line in f:\n",
    "    liste=[]\n",
    "    line=line.split('\\n')[0]\n",
    "    for l in line:\n",
    "        let=(ord(l) - 96)\n",
    "        if ord(l) - 96<=0:\n",
    "            let=(ord(l) - 64+26)\n",
    "        liste.append(let)\n",
    "    h_liste.append(liste)\n",
    "score=0\n",
    "for liste in h_liste:\n",
    "    h=int(len(liste)/2)\n",
    "    for l in liste[0:h]:\n",
    "        if l in liste[h:]:\n",
    "            score+=l\n",
    "            break\n",
    "            \n",
    "print(score)\n",
    "            \n",
    "    "
   ]
  },
  {
   "cell_type": "code",
   "execution_count": 25,
   "id": "bbb7e54b-fdcf-46c1-86a4-8c2ba90696fc",
   "metadata": {},
   "outputs": [
    {
     "name": "stdout",
     "output_type": "stream",
     "text": [
      "2604\n"
     ]
    }
   ],
   "source": [
    "f=open(\"text03.txt\",\"r\")\n",
    "h_liste=[]\n",
    "for line in f:\n",
    "    liste=[]\n",
    "    line=line.split('\\n')[0]\n",
    "    for l in line:\n",
    "        let=(ord(l) - 96)\n",
    "        if ord(l) - 96<=0:\n",
    "            let=(ord(l) - 64+26)\n",
    "        liste.append(let)\n",
    "    h_liste.append(liste)\n",
    "score=0\n",
    "for i in range(0,len(h_liste),3):\n",
    "    for l in h_liste[i]:\n",
    "        if l in h_liste[i+1]:\n",
    "            if l in h_liste[i+2]:\n",
    "                score+=l\n",
    "                break\n",
    "            \n",
    "print(score)\n",
    "            "
   ]
  },
  {
   "cell_type": "code",
   "execution_count": null,
   "id": "a4e8442f-e819-48c8-a8e8-85fd33575441",
   "metadata": {},
   "outputs": [],
   "source": []
  }
 ],
 "metadata": {
  "kernelspec": {
   "display_name": "Python 3 (ipykernel)",
   "language": "python",
   "name": "python3"
  },
  "language_info": {
   "codemirror_mode": {
    "name": "ipython",
    "version": 3
   },
   "file_extension": ".py",
   "mimetype": "text/x-python",
   "name": "python",
   "nbconvert_exporter": "python",
   "pygments_lexer": "ipython3",
   "version": "3.9.13"
  }
 },
 "nbformat": 4,
 "nbformat_minor": 5
}
