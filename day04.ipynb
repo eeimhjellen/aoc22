{
 "cells": [
  {
   "cell_type": "code",
   "execution_count": 17,
   "id": "5a991a9b-1938-4e69-a714-cfd801e52fe4",
   "metadata": {},
   "outputs": [
    {
     "name": "stdout",
     "output_type": "stream",
     "text": [
      "466\n"
     ]
    }
   ],
   "source": [
    "f=open(\"text04.txt\",\"r\")\n",
    "overlapp=0\n",
    "for line in f:\n",
    "    line=line.split('\\n')[0]\n",
    "    num=[ele.split('-') for ele in line.split(',')]\n",
    "    if (int(num[0][0])<=int(num[1][0]) and int(num[0][1])>=int(num[1][1])):\n",
    "        overlapp+=1\n",
    "    elif (int(num[0][0])>=int(num[1][0]) and int(num[0][1])<=int(num[1][1])):\n",
    "        overlapp+=1\n",
    "print(overlapp)"
   ]
  },
  {
   "cell_type": "code",
   "execution_count": null,
   "id": "17f41db6-ee14-4b91-b0ca-668109a1a016",
   "metadata": {},
   "outputs": [],
   "source": [
    "f=open(\"text04.txt\",\"r\")\n",
    "overlapp=0\n",
    "for line in f:\n",
    "    line=line.split('\\n')[0]\n",
    "    num=[ele.split('-') for ele in line.split(',')]\n",
    "    if (int(num[0][1])<int(num[1][0])):\n",
    "        overlapp+=1\n",
    "    elif (int(num[0][0])>int(num[1][1])):\n",
    "        overlapp+=1\n",
    "print(1000-overlapp)"
   ]
  },
  {
   "cell_type": "code",
   "execution_count": null,
   "id": "c6e15303-08c0-4a45-81d7-89a96b1599d4",
   "metadata": {},
   "outputs": [],
   "source": []
  }
 ],
 "metadata": {
  "kernelspec": {
   "display_name": "Python 3 (ipykernel)",
   "language": "python",
   "name": "python3"
  },
  "language_info": {
   "codemirror_mode": {
    "name": "ipython",
    "version": 3
   },
   "file_extension": ".py",
   "mimetype": "text/x-python",
   "name": "python",
   "nbconvert_exporter": "python",
   "pygments_lexer": "ipython3",
   "version": "3.9.13"
  }
 },
 "nbformat": 4,
 "nbformat_minor": 5
}
