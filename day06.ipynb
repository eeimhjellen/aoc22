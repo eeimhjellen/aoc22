{
 "cells": [
  {
   "cell_type": "code",
   "execution_count": 13,
   "id": "40d7c7d1-b7ee-4344-ac65-5ade3f51ffb4",
   "metadata": {},
   "outputs": [
    {
     "name": "stdout",
     "output_type": "stream",
     "text": [
      "1282\n"
     ]
    }
   ],
   "source": [
    "\n",
    "for line in open(\"text06.txt\",\"r\"):\n",
    "    for l in range(13,len(line)):\n",
    "        valuesArray = [line[l], line[l-1],line[l-2], line[l-3]]\n",
    "        valuesSet = {line[l], line[l-1],line[l-2], line[l-3]}\n",
    "        if len(valuesSet) == len(valuesArray):\n",
    "            print(l+1)\n",
    "            break\n"
   ]
  },
  {
   "cell_type": "code",
   "execution_count": 14,
   "id": "f4aca807-158a-495a-9cfb-ac549f893a6d",
   "metadata": {},
   "outputs": [
    {
     "name": "stdout",
     "output_type": "stream",
     "text": [
      "3513\n"
     ]
    }
   ],
   "source": [
    "for line in open(\"text06.txt\",\"r\"):\n",
    "    for l in range(13,len(line)):\n",
    "        valuesArray = [line[l], line[l-1],line[l-2], line[l-3],line[l-4], line[l-5],line[l-6], line[l-7],line[l-8], line[l-9],line[l-10], line[l-11],line[l-12], line[l-13]]\n",
    "        valuesSet = {line[l], line[l-1],line[l-2], line[l-3],line[l-4], line[l-5],line[l-6], line[l-7],line[l-8], line[l-9],line[l-10], line[l-11],line[l-12], line[l-13]}\n",
    "        if len(valuesSet) == len(valuesArray):\n",
    "            print(l+1)"
   ]
  },
  {
   "cell_type": "code",
   "execution_count": null,
   "id": "cb346ab0-614c-48f9-9242-23da745a5b7b",
   "metadata": {},
   "outputs": [],
   "source": []
  }
 ],
 "metadata": {
  "kernelspec": {
   "display_name": "Python 3 (ipykernel)",
   "language": "python",
   "name": "python3"
  },
  "language_info": {
   "codemirror_mode": {
    "name": "ipython",
    "version": 3
   },
   "file_extension": ".py",
   "mimetype": "text/x-python",
   "name": "python",
   "nbconvert_exporter": "python",
   "pygments_lexer": "ipython3",
   "version": "3.9.13"
  }
 },
 "nbformat": 4,
 "nbformat_minor": 5
}
