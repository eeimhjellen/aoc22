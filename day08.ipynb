{
 "cells": [
  {
   "cell_type": "code",
   "execution_count": 15,
   "id": "84e87d44-ceac-44d5-8464-83b4f37287d3",
   "metadata": {},
   "outputs": [],
   "source": [
    "f=open(\"text08.txt\",\"r\")\n",
    "lists=[]\n",
    "for line in f:\n",
    "    line=line.split('\\n')[0]\n",
    "    l=[]\n",
    "    for ele in line:\n",
    "        l.append(int(ele))\n",
    "    lists.append(l)\n"
   ]
  },
  {
   "cell_type": "code",
   "execution_count": 41,
   "id": "e4fbad93-79e7-40e3-bdd3-c1bc1c7b4cfc",
   "metadata": {},
   "outputs": [
    {
     "name": "stdout",
     "output_type": "stream",
     "text": [
      "1792\n"
     ]
    }
   ],
   "source": [
    "syn=0\n",
    "for i in range(len(lists)):\n",
    "    for j in range(len(lists[i])):\n",
    "        if i==0 or i==len(lists)-1 or j==0 or j==len(lists[i])-1:\n",
    "            syn+=1\n",
    "        else:\n",
    "            left=max(lists[i][:j])\n",
    "            r=max(lists[i][j+1:])\n",
    "            top = max([sublist[j] for sublist in lists[0:i]])\n",
    "            bot=max([sublist[j] for sublist in lists[i+1:]])\n",
    "            if lists[i][j]>left or lists[i][j]>r or lists[i][j]>top or lists[i][j]>bot:\n",
    "                syn+=1\n",
    "print(syn)"
   ]
  },
  {
   "cell_type": "code",
   "execution_count": 43,
   "id": "93552918-7529-4b3f-a2d9-c6ca060f63b0",
   "metadata": {},
   "outputs": [
    {
     "name": "stdout",
     "output_type": "stream",
     "text": [
      "334880\n"
     ]
    }
   ],
   "source": [
    "best=0\n",
    "for i in range(len(lists)):\n",
    "    for j in range(len(lists[i])):\n",
    "        if i==0 or i==len(lists)-1 or j==0 or j==len(lists[i])-1:\n",
    "            view=0\n",
    "        else:\n",
    "            left_n=1\n",
    "            while lists[i][j]>lists[i][j-left_n] and left_n<j:\n",
    "                left_n+=1\n",
    "            right_n=1\n",
    "            while lists[i][j]>lists[i][j+right_n] and right_n+j<len(lists[i])-1:\n",
    "                right_n+=1\n",
    "            top_n=1\n",
    "            while lists[i][j]>lists[i-top_n][j] and top_n<i:\n",
    "                top_n+=1   \n",
    "            bot_n=1\n",
    "            while lists[i][j]>lists[i+bot_n][j] and bot_n+i<len(lists)-1:\n",
    "                bot_n+=1  \n",
    "            view=left_n*right_n*top_n*bot_n\n",
    "            best=max(best,view)\n",
    "print(best)"
   ]
  },
  {
   "cell_type": "code",
   "execution_count": null,
   "id": "74e493de-8896-4367-9459-77950dfc8927",
   "metadata": {},
   "outputs": [],
   "source": []
  }
 ],
 "metadata": {
  "kernelspec": {
   "display_name": "Python 3 (ipykernel)",
   "language": "python",
   "name": "python3"
  },
  "language_info": {
   "codemirror_mode": {
    "name": "ipython",
    "version": 3
   },
   "file_extension": ".py",
   "mimetype": "text/x-python",
   "name": "python",
   "nbconvert_exporter": "python",
   "pygments_lexer": "ipython3",
   "version": "3.9.13"
  }
 },
 "nbformat": 4,
 "nbformat_minor": 5
}
