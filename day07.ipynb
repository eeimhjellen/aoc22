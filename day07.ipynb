{
 "cells": [
  {
   "cell_type": "code",
   "execution_count": 21,
   "id": "47e71722-26b3-4688-b869-4bf9d44bfbee",
   "metadata": {},
   "outputs": [
    {
     "ename": "IndentationError",
     "evalue": "expected an indented block (473369473.py, line 13)",
     "output_type": "error",
     "traceback": [
      "\u001b[1;36m  File \u001b[1;32m\"C:\\Users\\einar\\AppData\\Local\\Temp\\ipykernel_11656\\473369473.py\"\u001b[1;36m, line \u001b[1;32m13\u001b[0m\n\u001b[1;33m    \u001b[0m\n\u001b[1;37m    ^\u001b[0m\n\u001b[1;31mIndentationError\u001b[0m\u001b[1;31m:\u001b[0m expected an indented block\n"
     ]
    }
   ],
   "source": [
    "f=open(\"text07.txt\",\"r\")\n",
    "for line in f:\n",
    "    line=line.split('\\n')[:-1][0].split(' ')\n",
    "    if line[0]=='$':\n",
    "        if line[1]=='cd':\n",
    "            current=line[2]\n",
    "        elif line[1]=='ls':\n",
    "            continue\n",
    "    else: \n",
    "        if line[0]=='dir':\n",
    "            print(line)\n",
    "    "
   ]
  },
  {
   "cell_type": "code",
   "execution_count": 24,
   "id": "e0fa92db-c482-4677-bac0-d98f56682587",
   "metadata": {},
   "outputs": [
    {
     "name": "stdout",
     "output_type": "stream",
     "text": [
      "1391690\n"
     ]
    }
   ],
   "source": [
    "\n",
    "with open(\"text07.txt\") as f:\n",
    "    s = f.read().strip()\n",
    "\n",
    "files = {}\n",
    "folders = set()\n",
    "cur = []\n",
    "\n",
    "for cmd in s.split(\"\\n\"):\n",
    "    if cmd.startswith(\"$\"):\n",
    "        if cmd.startswith(\"$ cd\"):\n",
    "            r = cmd[5:]\n",
    "            if r == \"..\":\n",
    "                if len(cur) > 0:\n",
    "                    cur.pop(-1)\n",
    "            elif r == \"/\":\n",
    "                cur = []\n",
    "            else:\n",
    "                cur.extend(r.split(\"/\"))\n",
    "    else:\n",
    "        size, name = cmd.split(\" \")\n",
    "        if size == \"dir\":\n",
    "            continue\n",
    "        size = int(size)\n",
    "        files[\"/\".join(cur + [name])] = size\n",
    "    folders.add(\"/\".join(cur))\n",
    "\n",
    "\n",
    "r = 0\n",
    "fsizes = {}\n",
    "for folder in folders:\n",
    "    fsize = 0\n",
    "    for file in files:\n",
    "        if file.startswith(folder):\n",
    "            fsize += files[file]\n",
    "    if fsize <= 100000:\n",
    "        r += fsize\n",
    "    fsizes[folder] = fsize\n",
    "\n",
    "print(r)\n"
   ]
  },
  {
   "cell_type": "code",
   "execution_count": 25,
   "id": "675b75d8-d24c-40fe-a767-af43068e3fe2",
   "metadata": {},
   "outputs": [
    {
     "name": "stdout",
     "output_type": "stream",
     "text": [
      "5469168\n"
     ]
    }
   ],
   "source": [
    "\n",
    "with open(\"text07.txt\") as f:\n",
    "    s = f.read().strip()\n",
    "\n",
    "files = {}\n",
    "folders = set()\n",
    "cur = []\n",
    "\n",
    "for cmd in s.split(\"\\n\"):\n",
    "    if cmd.startswith(\"$\"):\n",
    "        if cmd.startswith(\"$ cd\"):\n",
    "            r = cmd[5:]\n",
    "            if r == \"..\":\n",
    "                if len(cur) > 0:\n",
    "                    cur.pop(-1)\n",
    "            elif r == \"/\":\n",
    "                cur = []\n",
    "            else:\n",
    "                cur.extend(r.split(\"/\"))\n",
    "    else:\n",
    "        size, name = cmd.split(\" \")\n",
    "        if size == \"dir\":\n",
    "            continue\n",
    "        size = int(size)\n",
    "        files[\"/\".join(cur + [name])] = size\n",
    "    folders.add(\"/\".join(cur))\n",
    "\n",
    "\n",
    "r = 0\n",
    "fsizes = {}\n",
    "for folder in folders:\n",
    "    fsize = 0\n",
    "    for file in files:\n",
    "        if file.startswith(folder):\n",
    "            fsize += files[file]\n",
    "    if fsize <= 100000:\n",
    "        r += fsize\n",
    "    fsizes[folder] = fsize\n",
    "\n",
    "\n",
    "print(min(v for v in fsizes.values() if 70000000 - fsizes[\"\"] + v >= 30000000))"
   ]
  },
  {
   "cell_type": "code",
   "execution_count": null,
   "id": "71c39637-7d47-484c-9f36-f8643010d43b",
   "metadata": {},
   "outputs": [],
   "source": []
  }
 ],
 "metadata": {
  "kernelspec": {
   "display_name": "Python 3 (ipykernel)",
   "language": "python",
   "name": "python3"
  },
  "language_info": {
   "codemirror_mode": {
    "name": "ipython",
    "version": 3
   },
   "file_extension": ".py",
   "mimetype": "text/x-python",
   "name": "python",
   "nbconvert_exporter": "python",
   "pygments_lexer": "ipython3",
   "version": "3.9.13"
  }
 },
 "nbformat": 4,
 "nbformat_minor": 5
}
