{
 "cells": [
  {
   "cell_type": "code",
   "execution_count": 11,
   "id": "8649686c-2af2-48bc-acde-713068ad5402",
   "metadata": {},
   "outputs": [
    {
     "name": "stdout",
     "output_type": "stream",
     "text": [
      "BSDMQFLSP\n"
     ]
    }
   ],
   "source": [
    "input_data = open(\"text05.txt\").read()\n",
    "setup, instruction = [part.split(\"\\n\") for part in input_data.split(\"\\n\\n\")]\n",
    "\n",
    "lists = [\"\"]*10\n",
    "for line in setup[:-1]:\n",
    "    for i, box in enumerate(line[1::4]):\n",
    "        if box != \" \": lists[i+1] += box\n",
    "        \n",
    "p1 = lists[:]\n",
    "for line in instruction:\n",
    "    _, n, _, src, _, dest = line.split()\n",
    "    n = int(n)\n",
    "    src = int(src)\n",
    "    dest = int(dest)\n",
    "    p1[src], p1[dest] = p1[src][n:],  p1[src][:n][::-1] + p1[dest]\n",
    "\n",
    "print(\"\".join(s[0] for s in p1 if s))"
   ]
  },
  {
   "cell_type": "code",
   "execution_count": 12,
   "id": "f16091a1-23ae-4943-9579-8ed14e00fec7",
   "metadata": {},
   "outputs": [
    {
     "name": "stdout",
     "output_type": "stream",
     "text": [
      "PGSQBFLDP\n"
     ]
    }
   ],
   "source": [
    "input_data = open(\"text05.txt\").read()\n",
    "setup, instruction = [part.split(\"\\n\") for part in input_data.split(\"\\n\\n\")]\n",
    "\n",
    "lists = [\"\"]*10\n",
    "for line in setup[:-1]:\n",
    "    for i, box in enumerate(line[1::4]):\n",
    "        if box != \" \": lists[i+1] += box\n",
    "        \n",
    "p1, p2 = lists[:], lists[:]\n",
    "for line in instruction:\n",
    "    _, n, _, src, _, dest = line.split()\n",
    "    n = int(n)\n",
    "    src = int(src)\n",
    "    dest = int(dest)\n",
    "    p2[src], p2[dest] = p2[src][n:],  p2[src][:n]       + p2[dest]\n",
    "print(\"\".join(s[0] for s in p2 if s))"
   ]
  }
 ],
 "metadata": {
  "kernelspec": {
   "display_name": "Python 3 (ipykernel)",
   "language": "python",
   "name": "python3"
  },
  "language_info": {
   "codemirror_mode": {
    "name": "ipython",
    "version": 3
   },
   "file_extension": ".py",
   "mimetype": "text/x-python",
   "name": "python",
   "nbconvert_exporter": "python",
   "pygments_lexer": "ipython3",
   "version": "3.9.13"
  }
 },
 "nbformat": 4,
 "nbformat_minor": 5
}
